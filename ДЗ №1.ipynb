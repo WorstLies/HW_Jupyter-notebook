{
 "cells": [
  {
   "cell_type": "markdown",
   "id": "f0b9866e",
   "metadata": {},
   "source": [
    "# Домашнее задание 1"
   ]
  },
  {
   "cell_type": "markdown",
   "id": "653b91f6",
   "metadata": {},
   "source": [
    "## Задача 1"
   ]
  },
  {
   "cell_type": "markdown",
   "id": "ca99fd43",
   "metadata": {},
   "source": [
    "```\n",
    "На складе лежат разные фрукты в разном количестве. Нужно написать функцию, которая на вход принимает любое количество названий фруктов и их количество, а возвращает общее количество фруктов на складе\n",
    "```"
   ]
  },
  {
   "cell_type": "code",
   "execution_count": 18,
   "id": "6bf07ac7",
   "metadata": {},
   "outputs": [
    {
     "data": {
      "text/plain": [
       "19"
      ]
     },
     "execution_count": 18,
     "metadata": {},
     "output_type": "execute_result"
    }
   ],
   "source": [
    "def Fruits(**kwargs):\n",
    "    all_fruits = sum(kwargs.values())\n",
    "    return all_fruits\n",
    "\n",
    "Fruits(apple = 8, orange = 4, berry = 7)"
   ]
  },
  {
   "cell_type": "markdown",
   "id": "e0335c09",
   "metadata": {},
   "source": [
    "## Задача 2"
   ]
  },
  {
   "cell_type": "markdown",
   "id": "63b535d6",
   "metadata": {},
   "source": [
    "```\n",
    "Дан список с затратами на рекламу. Но в данных есть ошибки, некоторые затраты имеют отрицательную величину. \n",
    "Удалите такие значения из списка и посчитайте суммарные затраты\n",
    "[100, 125, -90, 345, 655, -1, 0, 200]\n",
    "Используйте list comprehensions\n",
    "```"
   ]
  },
  {
   "cell_type": "code",
   "execution_count": 9,
   "id": "587d1e34",
   "metadata": {},
   "outputs": [],
   "source": [
    "arr_costs = [100, 125, -90, 345, 655, -1, 0, 200]"
   ]
  },
  {
   "cell_type": "code",
   "execution_count": 11,
   "id": "9f77a64c",
   "metadata": {},
   "outputs": [
    {
     "name": "stdout",
     "output_type": "stream",
     "text": [
      "1425\n"
     ]
    }
   ],
   "source": [
    "def Plus_costs(arr_costs: list):\n",
    "    result = sum([i for i in arr_costs if i >= 0])\n",
    "    print(result)\n",
    "Plus_costs(arr_costs)"
   ]
  },
  {
   "cell_type": "markdown",
   "id": "b218b66a",
   "metadata": {},
   "source": [
    "## Задача 3"
   ]
  },
  {
   "cell_type": "markdown",
   "id": "6b3d58d6",
   "metadata": {},
   "source": [
    "``` Даны два списка. ```\n",
    "\n",
    "* Дата покупки\n",
    "\n",
    "['2021-09-14', '2021-12-15', '2021-09-08', '2021-12-05', '2021-10-09', '2021-09-30', '2021-12-22', '2021-11-29', '2021-12-24', '2021-11-26', '2021-10-27', '2021-12-18', '2021-11-09', '2021-11-23', '2021-09-27', '2021-10-02', '2021-12-27', '2021-09-20', '2021-12-13', '2021-11-01', '2021-11-09', '2021-12-06', '2021-12-08', '2021-10-09', '2021-10-31', '2021-09-30', '2021-11-09', '2021-12-13', '2021-10-26', '2021-12-09']\n",
    "\n",
    "* Суммы покупок по датам\n",
    "\n",
    "[1270, 8413, 9028, 3703, 5739, 4095, 295, 4944, 5723, 3701, 4471, 651, 7037, 4274, 6275, 4988, 6930, 2971, 6592, 2004, 2822, 519, 3406, 2732, 5015, 2008, 316, 6333, 5700, 2887]"
   ]
  },
  {
   "cell_type": "markdown",
   "id": "0ec3c3e4",
   "metadata": {},
   "source": [
    "### Задача 3.1 Найдите, какая выручка у компании в ноябре\n",
    "``` \n",
    "Используйте list comprehensions\n",
    "```"
   ]
  },
  {
   "cell_type": "code",
   "execution_count": 15,
   "id": "88e9fb6f",
   "metadata": {},
   "outputs": [],
   "source": [
    "date = ['2021-09-14', '2021-12-15', '2021-09-08', '2021-12-05', '2021-10-09', '2021-09-30', '2021-12-22', '2021-11-29', '2021-12-24', '2021-11-26', '2021-10-27', '2021-12-18', '2021-11-09', '2021-11-23', '2021-09-27', '2021-10-02', '2021-12-27', '2021-09-20', '2021-12-13', '2021-11-01', '2021-11-09', '2021-12-06', '2021-12-08', '2021-10-09', '2021-10-31', '2021-09-30', '2021-11-09', '2021-12-13', '2021-10-26', '2021-12-09']\n",
    "purchases = [1270, 8413, 9028, 3703, 5739, 4095, 295, 4944, 5723, 3701, 4471, 651, 7037, 4274, 6275, 4988, 6930, 2971, 6592, 2004, 2822, 519, 3406, 2732, 5015, 2008, 316, 6333, 5700, 2887]"
   ]
  },
  {
   "cell_type": "code",
   "execution_count": 31,
   "id": "9ecf399e",
   "metadata": {},
   "outputs": [
    {
     "name": "stdout",
     "output_type": "stream",
     "text": [
      "Покупки за ноябрь: , 4944, 3701, 7037, 4274, 2004, 2822, 316\n",
      "Сумма покупок за ноябрь:  25098\n"
     ]
    }
   ],
   "source": [
    "def get_november(keys: list, values: list) -> dict:\n",
    "    new_list = [purchases[i] for i in range(len(keys)) if '-11-' in date[i]]\n",
    "    print(\"Покупки за ноябрь: \", *new_list, sep = \", \")\n",
    "    print(\"Сумма покупок за ноябрь: \", sum(new_list))\n",
    "\n",
    "get_november(date, purchases)"
   ]
  },
  {
   "cell_type": "markdown",
   "id": "ef982dca",
   "metadata": {},
   "source": [
    "### Задача 3.2 Найдите выручку компании в зависимости от месяца\n",
    "``` \n",
    "Для этого напишите функцию, которая на вход принимает список с датами и список с выручкой, а на выходе словарь, где ключи - это месяцы, а значения - это выручка.\n",
    "Используйте аннотирование типов.\n",
    "```"
   ]
  },
  {
   "cell_type": "code",
   "execution_count": 40,
   "id": "c06f6376",
   "metadata": {},
   "outputs": [
    {
     "name": "stdout",
     "output_type": "stream",
     "text": [
      "Выручка по месяцам:  {'09': 25647, '12': 45452, '10': 28645, '11': 25098}\n"
     ]
    }
   ],
   "source": [
    "def get_month(date: list, purchases: list) -> dict:\n",
    "    revenue_month = {}\n",
    "    for i in range(len(date)):\n",
    "        month = date[i].split('-')[1]\n",
    "        if month in revenue_month.keys():\n",
    "            revenue_month[month] += purchases[i]\n",
    "        else:\n",
    "            revenue_month[month] = purchases[i]\n",
    "    return revenue_month\n",
    "\n",
    "print(\"Выручка по месяцам: \", get_month(date, purchases))"
   ]
  },
  {
   "cell_type": "code",
   "execution_count": null,
   "id": "27d46a53",
   "metadata": {},
   "outputs": [],
   "source": []
  }
 ],
 "metadata": {
  "kernelspec": {
   "display_name": "Python 3 (ipykernel)",
   "language": "python",
   "name": "python3"
  },
  "language_info": {
   "codemirror_mode": {
    "name": "ipython",
    "version": 3
   },
   "file_extension": ".py",
   "mimetype": "text/x-python",
   "name": "python",
   "nbconvert_exporter": "python",
   "pygments_lexer": "ipython3",
   "version": "3.10.9"
  }
 },
 "nbformat": 4,
 "nbformat_minor": 5
}
